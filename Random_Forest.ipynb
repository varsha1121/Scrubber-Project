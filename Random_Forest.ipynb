{
 "cells": [
  {
   "cell_type": "code",
   "execution_count": 1,
   "id": "46d40b05",
   "metadata": {},
   "outputs": [],
   "source": [
    "#pah\n",
    "import numpy as np\n",
    "import matplotlib.pyplot as plt\n",
    "import pandas as pd\n",
    "from sklearn.model_selection import train_test_split"
   ]
  },
  {
   "cell_type": "code",
   "execution_count": 2,
   "id": "34600bf3",
   "metadata": {},
   "outputs": [],
   "source": [
    "dataset = pd.read_csv('/Users/poojachandran/Desktop/pah/pah_train.csv')"
   ]
  },
  {
   "cell_type": "code",
   "execution_count": 3,
   "id": "a16a434f",
   "metadata": {},
   "outputs": [],
   "source": [
    "x = dataset[['so2','co2','gasRatio','dischargePh','swFlow', 'scrubberLoad', 'temperatureBeforeScrubber', 'temperatureAfterScrubber']]\n",
    "y = dataset['dischargePah']"
   ]
  },
  {
   "cell_type": "code",
   "execution_count": 4,
   "id": "af0c6a93",
   "metadata": {},
   "outputs": [],
   "source": [
    "x_train,x_test,y_train,y_test=train_test_split(x,y,test_size=0.2,random_state=123)"
   ]
  },
  {
   "cell_type": "code",
   "execution_count": 5,
   "id": "8ffc85c5",
   "metadata": {},
   "outputs": [
    {
     "data": {
      "text/plain": [
       "RandomForestRegressor(random_state=0)"
      ]
     },
     "execution_count": 5,
     "metadata": {},
     "output_type": "execute_result"
    }
   ],
   "source": [
    "from sklearn.ensemble import RandomForestRegressor\n",
    "regressor = RandomForestRegressor(n_estimators=100,random_state=0)\n",
    "regressor.fit(x_train, y_train)"
   ]
  },
  {
   "cell_type": "code",
   "execution_count": 6,
   "id": "c24e5d9e",
   "metadata": {},
   "outputs": [],
   "source": [
    "y_pred=regressor.predict(x_test)"
   ]
  },
  {
   "cell_type": "code",
   "execution_count": 7,
   "id": "1e50cb75",
   "metadata": {},
   "outputs": [
    {
     "name": "stdout",
     "output_type": "stream",
     "text": [
      " Accuracy of the model is 99.00\n"
     ]
    }
   ],
   "source": [
    "from sklearn.metrics import r2_score\n",
    "Accuracy=r2_score(y_test,y_pred)*100\n",
    "print(\" Accuracy of the model is %.2f\" %Accuracy)\n"
   ]
  },
  {
   "cell_type": "code",
   "execution_count": 8,
   "id": "e38f6982",
   "metadata": {},
   "outputs": [],
   "source": [
    "df = pd.DataFrame(y_pred, columns = ['pred'])\n",
    "y_test.to_csv('pah1.csv')\n",
    "df.to_csv('pahpred1.csv')\n"
   ]
  },
  {
   "cell_type": "code",
   "execution_count": 9,
   "id": "8c606079",
   "metadata": {},
   "outputs": [],
   "source": [
    "#ph\n",
    "import numpy as np\n",
    "import matplotlib.pyplot as plt\n",
    "import pandas as pd\n",
    "from sklearn.model_selection import train_test_split"
   ]
  },
  {
   "cell_type": "code",
   "execution_count": 10,
   "id": "a5204486",
   "metadata": {},
   "outputs": [],
   "source": [
    "dataset = pd.read_csv('/Users/poojachandran/Desktop/phTRAINS.csv')"
   ]
  },
  {
   "cell_type": "code",
   "execution_count": 11,
   "id": "8bf7b174",
   "metadata": {},
   "outputs": [],
   "source": [
    "x = dataset[['so2','co2','gasRatio','dischargePah','swFlow', 'scrubberLoad', 'temperatureBeforeScrubber', 'temperatureAfterScrubber']]\n",
    "y = dataset['dischargePh']"
   ]
  },
  {
   "cell_type": "code",
   "execution_count": 12,
   "id": "7617649f",
   "metadata": {},
   "outputs": [],
   "source": [
    "x_train,x_test,y_train,y_test=train_test_split(x,y,test_size=0.2,random_state=123)"
   ]
  },
  {
   "cell_type": "code",
   "execution_count": 13,
   "id": "c4b3b61e",
   "metadata": {},
   "outputs": [
    {
     "data": {
      "text/plain": [
       "RandomForestRegressor(random_state=0)"
      ]
     },
     "execution_count": 13,
     "metadata": {},
     "output_type": "execute_result"
    }
   ],
   "source": [
    "from sklearn.ensemble import RandomForestRegressor\n",
    "regressor = RandomForestRegressor(n_estimators=100,random_state=0)\n",
    "regressor.fit(x_train, y_train)"
   ]
  },
  {
   "cell_type": "code",
   "execution_count": 14,
   "id": "889ada95",
   "metadata": {},
   "outputs": [],
   "source": [
    "y_pred=regressor.predict(x_test)"
   ]
  },
  {
   "cell_type": "code",
   "execution_count": 15,
   "id": "9a8f6155",
   "metadata": {},
   "outputs": [],
   "source": [
    "df = pd.DataFrame(y_pred, columns = ['phpred'])\n",
    "y_test.to_csv('ph1.csv')\n",
    "df.to_csv('phpred1.csv')\n"
   ]
  },
  {
   "cell_type": "code",
   "execution_count": 16,
   "id": "418a325e",
   "metadata": {},
   "outputs": [],
   "source": [
    "#turb\n",
    "import numpy as np\n",
    "import matplotlib.pyplot as plt\n",
    "import pandas as pd\n",
    "from sklearn.model_selection import train_test_split"
   ]
  },
  {
   "cell_type": "code",
   "execution_count": 17,
   "id": "28f9a9fc",
   "metadata": {},
   "outputs": [],
   "source": [
    "dataset = pd.read_csv('/Users/poojachandran/Desktop/turb_train.csv')"
   ]
  },
  {
   "cell_type": "code",
   "execution_count": 18,
   "id": "fb3117b3",
   "metadata": {},
   "outputs": [],
   "source": [
    "x = dataset[['so2','co2','gasRatio','dischargePh','dischargePah','swFlow', 'scrubberLoad', 'temperatureBeforeScrubber', 'temperatureAfterScrubber']]\n",
    "y = dataset['turbidityDifference']"
   ]
  },
  {
   "cell_type": "code",
   "execution_count": 19,
   "id": "522ae631",
   "metadata": {},
   "outputs": [],
   "source": [
    "x_train,x_test,y_train,y_test=train_test_split(x,y,test_size=0.2,random_state=123)"
   ]
  },
  {
   "cell_type": "code",
   "execution_count": 20,
   "id": "bad085c9",
   "metadata": {},
   "outputs": [
    {
     "data": {
      "text/plain": [
       "RandomForestRegressor(random_state=0)"
      ]
     },
     "execution_count": 20,
     "metadata": {},
     "output_type": "execute_result"
    }
   ],
   "source": [
    "from sklearn.ensemble import RandomForestRegressor\n",
    "regressor = RandomForestRegressor(n_estimators=100,random_state=0)\n",
    "regressor.fit(x_train, y_train)"
   ]
  },
  {
   "cell_type": "code",
   "execution_count": 21,
   "id": "c48d1756",
   "metadata": {},
   "outputs": [],
   "source": [
    "y_pred=regressor.predict(x_test)"
   ]
  },
  {
   "cell_type": "code",
   "execution_count": 22,
   "id": "8c0e2b1b",
   "metadata": {},
   "outputs": [],
   "source": [
    "df = pd.DataFrame(y_pred, columns = ['turbpred'])\n",
    "y_test.to_csv('turb1.csv')\n",
    "df.to_csv('tpred1.csv')"
   ]
  },
  {
   "cell_type": "code",
   "execution_count": 33,
   "id": "67db6247",
   "metadata": {},
   "outputs": [],
   "source": [
    "#gasratio\n",
    "import numpy as np\n",
    "import matplotlib.pyplot as plt\n",
    "import pandas as pd\n",
    "from sklearn.model_selection import train_test_split"
   ]
  },
  {
   "cell_type": "code",
   "execution_count": 34,
   "id": "849bdf3a",
   "metadata": {},
   "outputs": [],
   "source": [
    "dataset = pd.read_csv('/Users/poojachandran/Desktop/gratio_train.csv')"
   ]
  },
  {
   "cell_type": "code",
   "execution_count": 35,
   "id": "b2f7f489",
   "metadata": {},
   "outputs": [],
   "source": [
    "x = dataset[['so2','co2','dischargePh','dischargePah','swFlow', 'scrubberLoad', 'temperatureBeforeScrubber', 'temperatureAfterScrubber']]\n",
    "y = dataset['gasRatio']"
   ]
  },
  {
   "cell_type": "code",
   "execution_count": 36,
   "id": "7532cfda",
   "metadata": {},
   "outputs": [],
   "source": [
    "x_train,x_test,y_train,y_test=train_test_split(x,y,test_size=0.2,random_state=123)"
   ]
  },
  {
   "cell_type": "code",
   "execution_count": 37,
   "id": "64d0bf0c",
   "metadata": {},
   "outputs": [
    {
     "data": {
      "text/plain": [
       "RandomForestRegressor(random_state=0)"
      ]
     },
     "execution_count": 37,
     "metadata": {},
     "output_type": "execute_result"
    }
   ],
   "source": [
    "from sklearn.ensemble import RandomForestRegressor\n",
    "regressor = RandomForestRegressor(n_estimators=100,random_state=0)\n",
    "regressor.fit(x_train, y_train)"
   ]
  },
  {
   "cell_type": "code",
   "execution_count": 38,
   "id": "f6bb965e",
   "metadata": {},
   "outputs": [],
   "source": [
    "y_pred=regressor.predict(x_test)"
   ]
  },
  {
   "cell_type": "code",
   "execution_count": 39,
   "id": "23a54a5f",
   "metadata": {},
   "outputs": [],
   "source": [
    "df = pd.DataFrame(y_pred, columns = ['gasrpred'])\n",
    "y_test.to_csv('gasr1.csv')\n",
    "df.to_csv('gasrpred1.csv')"
   ]
  },
  {
   "cell_type": "code",
   "execution_count": null,
   "id": "f70daaea",
   "metadata": {},
   "outputs": [],
   "source": []
  }
 ],
 "metadata": {
  "language_info": {
   "codemirror_mode": {
    "name": "ipython",
    "version": 3
   },
   "file_extension": ".py",
   "mimetype": "text/x-python",
   "name": "python",
   "nbconvert_exporter": "python",
   "pygments_lexer": "ipython3",
   "version": "3.9.12"
  }
 },
 "nbformat": 4,
 "nbformat_minor": 5
}
