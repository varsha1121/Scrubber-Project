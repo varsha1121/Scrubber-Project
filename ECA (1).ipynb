{
  "cells": [
    {
      "cell_type": "code",
      "execution_count": null,
      "metadata": {
        "id": "llj24BQkOsKt"
      },
      "outputs": [],
      "source": [
        "from csv import writer\n",
        "from csv import reader\n",
        "default_text = '0'\n",
        "# Open the input_file in read mode and output_file in write mode\n",
        "with open('/Users/poojachandran/Desktop/synergy/1month_data_set.csv', 'r') as read_obj, \\\n",
        "        open('/Users/poojachandran/Desktop/synergy/output_2.csv', 'w', newline='') as write_obj:\n",
        "    # Create a csv.reader object from the input file object\n",
        "    csv_reader = reader(read_obj)\n",
        "    # Create a csv.writer object from the output file object\n",
        "    csv_writer = writer(write_obj)\n",
        "    # Read each row of the input csv file as list\n",
        "    for row in csv_reader:\n",
        "        # Append the default text in the row / list\n",
        "        row.append(default_text)\n",
        "        # Add the updated row / list to the output file\n",
        "        csv_writer.writerow(row)"
      ]
    },
    {
      "cell_type": "code",
      "execution_count": null,
      "metadata": {
        "colab": {
          "base_uri": "https://localhost:8080/"
        },
        "id": "uZpZU_QTVW8z",
        "outputId": "9f75120e-22dd-4342-d9cd-e948ffd839d7"
      },
      "outputs": [
        {
          "name": "stdout",
          "output_type": "stream",
          "text": [
            "Requirement already satisfied: turfpy in /Users/poojachandran/opt/anaconda3/lib/python3.9/site-packages (0.0.7)\n",
            "Requirement already satisfied: shapely in /Users/poojachandran/opt/anaconda3/lib/python3.9/site-packages (from turfpy) (1.8.2)\n",
            "Requirement already satisfied: numpy in /Users/poojachandran/opt/anaconda3/lib/python3.9/site-packages (from turfpy) (1.21.5)\n",
            "Requirement already satisfied: geojson in /Users/poojachandran/opt/anaconda3/lib/python3.9/site-packages (from turfpy) (2.5.0)\n",
            "Requirement already satisfied: scipy in /Users/poojachandran/opt/anaconda3/lib/python3.9/site-packages (from turfpy) (1.7.3)\n",
            "\u001b[33mWARNING: You are using pip version 22.0.4; however, version 22.2.1 is available.\n",
            "You should consider upgrading via the '/Users/poojachandran/opt/anaconda3/bin/python -m pip install --upgrade pip' command.\u001b[0m\u001b[33m\n",
            "\u001b[0mNote: you may need to restart the kernel to use updated packages.\n"
          ]
        }
      ],
      "source": [
        "pip install turfpy"
      ]
    },
    {
      "cell_type": "code",
      "execution_count": null,
      "metadata": {
        "colab": {
          "base_uri": "https://localhost:8080/"
        },
        "id": "FpLM8JUuVbVp",
        "outputId": "d40e83da-1ab9-4ee1-c22a-05b4f5b800b4"
      },
      "outputs": [
        {
          "name": "stdout",
          "output_type": "stream",
          "text": [
            "Requirement already satisfied: geojson in /Users/poojachandran/opt/anaconda3/lib/python3.9/site-packages (2.5.0)\n",
            "\u001b[33mWARNING: You are using pip version 22.0.4; however, version 22.2.1 is available.\n",
            "You should consider upgrading via the '/Users/poojachandran/opt/anaconda3/bin/python -m pip install --upgrade pip' command.\u001b[0m\u001b[33m\n",
            "\u001b[0mNote: you may need to restart the kernel to use updated packages.\n"
          ]
        }
      ],
      "source": [
        "pip install geojson"
      ]
    },
    {
      "cell_type": "code",
      "execution_count": null,
      "metadata": {
        "id": "i0YlRHcfPVr5"
      },
      "outputs": [],
      "source": [
        "import json\n",
        "from turfpy.measurement import boolean_point_in_polygon\n",
        "from geojson import Point, Polygon, Feature\n",
        "import numpy as np\n",
        "import pandas as pd\n",
        "from pandas import *\n",
        "cs = read_csv(\"/Users/poojachandran/Desktop/synergy/output_2.csv\")\n",
        "lat = cs['latitude'].tolist()\n",
        "lon = cs['longitude'].tolist()\n",
        "f = open('/Users/poojachandran/Desktop/synergy/eca-geo.json')\n",
        "data = json.load(f)\n",
        "df = pd.DataFrame(data)\n",
        "\n",
        "csf = pd.read_csv(\"/Users/poojachandran/Desktop/synergy/output_2.csv\")\n",
        "for l in range(len(lat)):\n",
        " point = Feature(geometry=Point((lat[l],lon[l])))# create point  \n",
        " c=0 \n",
        " print(l);\n",
        " for i in data['features']:\n",
        "  if c>0:\n",
        "      polygon = Polygon(i['geometry']['coordinates'])\n",
        "      if boolean_point_in_polygon(point, polygon)==True:\n",
        "        csf.loc[l, '0'] = '1'\n",
        "        csf.to_csv(\"/Users/poojachandran/Desktop/synergy/output_2.csv\", index=False)\n",
        "  c=c+1 \n",
        "f.close()\n",
        "\n",
        "\n",
        "  \n",
        "\n",
        "  \n"
      ]
    },
    {
      "cell_type": "code",
      "execution_count": null,
      "metadata": {
        "id": "C7n6bDITA9cj"
      },
      "outputs": [],
      "source": [
        "import json\n",
        "from turfpy.measurement import boolean_point_in_polygon\n",
        "from geojson import Point, Polygon, Feature\n",
        "import numpy as np\n",
        "import pandas as pd\n",
        "from pandas import *\n",
        "cs = read_csv(\"/Users/poojachandran/Desktop/synergy/output_2.csv\")\n",
        "lat = cs['latitude'].tolist()\n",
        "lon = cs['longitude'].tolist()\n",
        "csf = pd.read_csv(\"/Users/poojachandran/Desktop/synergy/output_2.csv\")\n",
        "for l in range(len(lat)):\n",
        " print(l);\n",
        " if lat[l]==-59.0625 and lon[l]==46.558860303117164:\n",
        "    csf.loc[l, '0'] = '1'\n",
        "    csf.to_csv(\"/Users/poojachandran/Desktop/synergy/output_2.csv\", index=False)"
      ]
    }
  ],
  "metadata": {
    "colab": {
      "name": "ECA.ipynb",
      "provenance": []
    },
    "kernelspec": {
      "display_name": "Python 3 (ipykernel)",
      "language": "python",
      "name": "python3"
    },
    "language_info": {
      "codemirror_mode": {
        "name": "ipython",
        "version": 3
      },
      "file_extension": ".py",
      "mimetype": "text/x-python",
      "name": "python",
      "nbconvert_exporter": "python",
      "pygments_lexer": "ipython3",
      "version": "3.9.12"
    }
  },
  "nbformat": 4,
  "nbformat_minor": 0
}